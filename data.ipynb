{
  "nbformat": 4,
  "nbformat_minor": 0,
  "metadata": {
    "colab": {
      "provenance": [],
      "mount_file_id": "1ZwbY7ATz4Og6C-Kt4agpBVMWyK9Dz8JR",
      "authorship_tag": "ABX9TyOaTMpKdN5Ee0Mcx7aVwcvz",
      "include_colab_link": true
    },
    "kernelspec": {
      "name": "python3",
      "display_name": "Python 3"
    },
    "language_info": {
      "name": "python"
    }
  },
  "cells": [
    {
      "cell_type": "markdown",
      "metadata": {
        "id": "view-in-github",
        "colab_type": "text"
      },
      "source": [
        "<a href=\"https://colab.research.google.com/github/yusukebb/collective/blob/main/data.ipynb\" target=\"_parent\"><img src=\"https://colab.research.google.com/assets/colab-badge.svg\" alt=\"Open In Colab\"/></a>"
      ]
    },
    {
      "cell_type": "code",
      "execution_count": null,
      "metadata": {
        "id": "CbX12bjiEZZ3"
      },
      "outputs": [],
      "source": [
        "import pickle\n",
        "import glob\n",
        "\n",
        "our_data_dir = str('/content/drive/MyDrive/collective/DD_test/data/ours/')"
      ]
    },
    {
      "cell_type": "code",
      "source": [
        "file_list_train_15_2D = glob.glob(our_data_dir + 'train/train_2D_15*.pkl')\n",
        "file_list_test_15_2D = glob.glob(our_data_dir + 'test/test_2D_15*.pkl')\n",
        "file_list_train_34_2D = glob.glob(our_data_dir + 'train/train_2D_34*.pkl')\n",
        "file_list_test_34_2D = glob.glob(our_data_dir + 'test/test_2D_34*.pkl')\n",
        "file_list_train_15_3D = glob.glob(our_data_dir + 'train/train_3D_15*.pkl')\n",
        "file_list_test_15_3D = glob.glob(our_data_dir + 'test/test_3D_15*.pkl')\n",
        "file_list_train_34_3D = glob.glob(our_data_dir + 'train/train_3D_34*.pkl')\n",
        "file_list_test_34_3D = glob.glob(our_data_dir + 'test/test_3D_34*.pkl')\n",
        "\n",
        "print(file_list_train_15_2D)\n",
        "print(file_list_test_15_2D)\n",
        "print(file_list_train_34_2D)\n",
        "print(file_list_test_34_2D)\n",
        "print(file_list_train_15_3D)\n",
        "print(file_list_test_15_3D)\n",
        "print(file_list_train_34_3D)\n",
        "print(file_list_test_34_3D)\n"
      ],
      "metadata": {
        "colab": {
          "base_uri": "https://localhost:8080/"
        },
        "id": "tDb0MGfqIfdi",
        "outputId": "4e274a4d-269c-494a-a094-2d366799928b"
      },
      "execution_count": null,
      "outputs": [
        {
          "output_type": "stream",
          "name": "stdout",
          "text": [
            "['/content/drive/MyDrive/collective/DD_test/data/ours/train/train_2D_15_sit_0.pkl', '/content/drive/MyDrive/collective/DD_test/data/ours/train/train_2D_15_sit_1.pkl', '/content/drive/MyDrive/collective/DD_test/data/ours/train/train_2D_15_clap_0.pkl', '/content/drive/MyDrive/collective/DD_test/data/ours/train/train_2D_15_wave_0.pkl', '/content/drive/MyDrive/collective/DD_test/data/ours/train/train_2D_15_walk_0.pkl']\n",
            "['/content/drive/MyDrive/collective/DD_test/data/ours/test/test_2D_15_sit_0.pkl', '/content/drive/MyDrive/collective/DD_test/data/ours/test/test_2D_15_clap_0.pkl', '/content/drive/MyDrive/collective/DD_test/data/ours/test/test_2D_15_wave_0.pkl', '/content/drive/MyDrive/collective/DD_test/data/ours/test/test_2D_15_walk_0.pkl']\n",
            "['/content/drive/MyDrive/collective/DD_test/data/ours/train/train_2D_34_sit_0.pkl', '/content/drive/MyDrive/collective/DD_test/data/ours/train/train_2D_34_sit_1.pkl', '/content/drive/MyDrive/collective/DD_test/data/ours/train/train_2D_34_clap_0.pkl', '/content/drive/MyDrive/collective/DD_test/data/ours/train/train_2D_34_wave_0.pkl', '/content/drive/MyDrive/collective/DD_test/data/ours/train/train_2D_34_walk_0.pkl']\n",
            "['/content/drive/MyDrive/collective/DD_test/data/ours/test/test_2D_34_sit_0.pkl', '/content/drive/MyDrive/collective/DD_test/data/ours/test/test_2D_34_clap_0.pkl', '/content/drive/MyDrive/collective/DD_test/data/ours/test/test_2D_34_wave_0.pkl', '/content/drive/MyDrive/collective/DD_test/data/ours/test/test_2D_34_walk_0.pkl']\n",
            "['/content/drive/MyDrive/collective/DD_test/data/ours/train/train_3D_15_sit_0.pkl', '/content/drive/MyDrive/collective/DD_test/data/ours/train/train_3D_15_sit_1.pkl', '/content/drive/MyDrive/collective/DD_test/data/ours/train/train_3D_15_clap_0.pkl', '/content/drive/MyDrive/collective/DD_test/data/ours/train/train_3D_15_wave_0.pkl', '/content/drive/MyDrive/collective/DD_test/data/ours/train/train_3D_15_walk_0.pkl']\n",
            "['/content/drive/MyDrive/collective/DD_test/data/ours/test/test_3D_15_sit_0.pkl', '/content/drive/MyDrive/collective/DD_test/data/ours/test/test_3D_15_clap_0.pkl', '/content/drive/MyDrive/collective/DD_test/data/ours/test/test_3D_15_wave_0.pkl', '/content/drive/MyDrive/collective/DD_test/data/ours/test/test_3D_15_walk_0.pkl']\n",
            "['/content/drive/MyDrive/collective/DD_test/data/ours/train/train_3D_34_sit_0.pkl', '/content/drive/MyDrive/collective/DD_test/data/ours/train/train_3D_34_sit_1.pkl', '/content/drive/MyDrive/collective/DD_test/data/ours/train/train_3D_34_clap_0.pkl', '/content/drive/MyDrive/collective/DD_test/data/ours/train/train_3D_34_wave_0.pkl', '/content/drive/MyDrive/collective/DD_test/data/ours/train/train_3D_34_walk_0.pkl']\n",
            "['/content/drive/MyDrive/collective/DD_test/data/ours/test/test_3D_34_sit_0.pkl', '/content/drive/MyDrive/collective/DD_test/data/ours/test/test_3D_34_clap_0.pkl', '/content/drive/MyDrive/collective/DD_test/data/ours/test/test_3D_34_wave_0.pkl', '/content/drive/MyDrive/collective/DD_test/data/ours/test/test_3D_34_walk_0.pkl']\n"
          ]
        }
      ]
    },
    {
      "cell_type": "code",
      "source": [
        "def read_file(file_name: str, combined_pose_data: list, combined_label_data: list):\n",
        "  with open(file_name, 'rb') as f:\n",
        "    data = pickle.load(f)\n",
        "  \n",
        "  pose = data['pose']\n",
        "  label = data['label']\n",
        "\n",
        "  for i in range(len(pose)):\n",
        "    combined_pose_data.append(pose[i])\n",
        "    combined_label_data.append(label[i])"
      ],
      "metadata": {
        "id": "dwOZCRRbEudx"
      },
      "execution_count": null,
      "outputs": []
    },
    {
      "cell_type": "code",
      "source": [
        "def file_maker(file_list, skeleton_pose, skeleton_label):\n",
        "  for i in file_list:\n",
        "    read_file(i, skeleton_pose, skeleton_label)"
      ],
      "metadata": {
        "id": "fkfabNw2Rvwp"
      },
      "execution_count": null,
      "outputs": []
    },
    {
      "cell_type": "code",
      "source": [
        "def save_data(tt: str, joint, dim, pose, label):\n",
        "  name = tt +  '_' + dim + '_' + str(joint) \n",
        "  amp_name = \"amp_\" + tt +  '_' + dim + '_' + str(joint) \n",
        "\n",
        "  data_dic = {}\n",
        "  data_dic['pose'] = []\n",
        "  data_dic['label'] = []\n",
        "  for i in range(len(label)):\n",
        "    data_dic['pose'].append(pose[i])\n",
        "    data_dic['label'].append(label[i])\n",
        "\n",
        "  path = '/content/drive/MyDrive/collective/DD_test/data/ours/' + name + '.pkl'\n",
        "  path2 = '/content/drive/MyDrive/collective/DD_test/data/ours/text/' + name + '.txt'\n",
        "\n",
        "  with open(path, 'wb') as f:\n",
        "    pickle.dump((data_dic),f)\n",
        "\n",
        "  with open(path, 'rb') as f:\n",
        "    lines = pickle.load(f)\n",
        "    f = open(path2, 'w')\n",
        "    aa = str(lines)\n",
        "    f.write(aa)\n",
        "    f.close()\n",
        "\n",
        "  # amp_data_dic = {}\n",
        "  # amp_data_dic['pose'] = []\n",
        "  # amp_data_dic['label'] = []\n",
        "\n",
        "  # beta = 40\n",
        "  # if len(pose[0][0]) == 2:\n",
        "  #   amp_matrix = [[cos(beta), 0, sin(beta)],\n",
        "  #               [0, 1, 0],\n",
        "  #               [-sin(beta), 0, cos(beta)]]\n",
        "  # elif len(pose[0][0]) == 3:\n",
        "  #   amp_matrix = [[cos(beta), 0, sin(beta)],\n",
        "  #               [0, 1, 0],\n",
        "  #               [-sin(beta), 0, cos(beta)]]\n",
        "\n",
        "  # for i in range(len(label)):\n",
        "  #   new_pose = []\n",
        "  #   for j in range(len(pose[0])):\n",
        "  #     new_coordinate = np.dot(pose[i][j],amp_matrix)\n",
        "  #     new_pose.append(new_coordinate)\n",
        "\n",
        "  #   amp_data_dic['pose'].append(new_pose)\n",
        "  #   amp_data_dic['label'].append(label[i])\n",
        "\n",
        "  # amp_path = '/content/drive/MyDrive/collective/DD_test/data/ours/' + amp_name + '.pkl'\n",
        "  # amp_path2 = '/content/drive/MyDrive/collective/DD_test/data/ours/text/' + amp_name + '.txt'\n",
        "\n",
        "  # with open(amp_path, 'wb') as f:\n",
        "  #   pickle.dump((amp_data_dic),f)\n",
        "\n",
        "  # with open(amp_path, 'rb') as f:\n",
        "  #   lines = pickle.load(f)\n",
        "  #   f = open(amp_path2, 'w')\n",
        "  #   aa = str(lines)\n",
        "  #   f.write(aa)\n",
        "  #   f.close()"
      ],
      "metadata": {
        "id": "uEKnHU3nf9HD"
      },
      "execution_count": null,
      "outputs": []
    },
    {
      "cell_type": "code",
      "source": [
        "skeleton_pose_train_15_2D = []\n",
        "skeleton_label_train_15_2D = []\n",
        "skeleton_pose_test_15_2D = []\n",
        "skeleton_label_test_15_2D = []\n",
        "skeleton_pose_train_34_2D = []\n",
        "skeleton_label_train_34_2D = []\n",
        "skeleton_pose_test_34_2D = []\n",
        "skeleton_label_test_34_2D = []\n",
        "\n",
        "skeleton_pose_train_15_3D = []\n",
        "skeleton_label_train_15_3D = []\n",
        "skeleton_pose_test_15_3D = []\n",
        "skeleton_label_test_15_3D = []\n",
        "skeleton_pose_train_34_3D = []\n",
        "skeleton_label_train_34_3D = []\n",
        "skeleton_pose_test_34_3D = []\n",
        "skeleton_label_test_34_3D = []"
      ],
      "metadata": {
        "id": "Qd95R1leMlwp"
      },
      "execution_count": null,
      "outputs": []
    },
    {
      "cell_type": "code",
      "source": [
        "file_maker(file_list_test_15_2D, skeleton_pose_test_15_2D, skeleton_label_test_15_2D)\n",
        "file_maker(file_list_test_34_2D, skeleton_pose_test_34_2D, skeleton_label_test_34_2D)\n",
        "file_maker(file_list_test_15_3D, skeleton_pose_test_15_3D, skeleton_label_test_15_3D)\n",
        "file_maker(file_list_test_34_3D, skeleton_pose_test_34_3D, skeleton_label_test_34_3D)\n",
        "\n",
        "file_maker(file_list_train_15_2D, skeleton_pose_train_15_2D, skeleton_label_train_15_2D)\n",
        "file_maker(file_list_train_34_2D, skeleton_pose_train_34_2D, skeleton_label_train_34_2D)\n",
        "file_maker(file_list_train_15_3D, skeleton_pose_train_15_3D, skeleton_label_train_15_3D)\n",
        "file_maker(file_list_train_34_3D, skeleton_pose_train_34_3D, skeleton_label_train_34_3D)"
      ],
      "metadata": {
        "id": "snK9XXReUT75"
      },
      "execution_count": null,
      "outputs": []
    },
    {
      "cell_type": "code",
      "source": [
        "save_data('test', 15, '2D', skeleton_pose_test_15_2D, skeleton_label_test_15_2D)\n",
        "save_data('test', 34, '2D', skeleton_pose_test_34_2D, skeleton_label_test_34_2D)\n",
        "save_data('test', 15, '3D', skeleton_pose_test_15_3D, skeleton_label_test_15_3D)\n",
        "save_data('test', 34, '3D', skeleton_pose_test_34_3D, skeleton_label_test_34_3D)\n",
        "\n",
        "save_data('train', 15, '2D', skeleton_pose_train_15_2D, skeleton_label_train_15_2D)\n",
        "save_data('train', 34, '2D', skeleton_pose_train_34_2D, skeleton_label_train_34_2D)\n",
        "save_data('train', 15, '3D', skeleton_pose_train_15_3D, skeleton_label_train_15_3D)\n",
        "save_data('train', 34, '3D', skeleton_pose_train_34_3D, skeleton_label_train_34_3D)"
      ],
      "metadata": {
        "id": "XJNkQLRnP29y"
      },
      "execution_count": null,
      "outputs": []
    }
  ]
}